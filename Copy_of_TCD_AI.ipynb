{
  "nbformat": 4,
  "nbformat_minor": 0,
  "metadata": {
    "colab": {
      "name": "Copy of TCD AI.ipynb",
      "provenance": [],
      "collapsed_sections": [],
      "toc_visible": true,
      "machine_shape": "hm",
      "include_colab_link": true
    },
    "kernelspec": {
      "name": "python3",
      "display_name": "Python 3"
    },
    "accelerator": "GPU"
  },
  "cells": [
    {
      "cell_type": "markdown",
      "metadata": {
        "id": "view-in-github",
        "colab_type": "text"
      },
      "source": [
        "<a href=\"https://colab.research.google.com/github/akshaymathur777/AI-Project/blob/master/Copy_of_TCD_AI.ipynb\" target=\"_parent\"><img src=\"https://colab.research.google.com/assets/colab-badge.svg\" alt=\"Open In Colab\"/></a>"
      ]
    },
    {
      "cell_type": "code",
      "metadata": {
        "id": "HyRfgFMv-wIx",
        "colab_type": "code",
        "outputId": "6c528c4d-bc75-4251-f7ee-050c66dd5b6e",
        "colab": {
          "base_uri": "https://localhost:8080/",
          "height": 104
        }
      },
      "source": [
        "%tensorflow_version 1.15"
      ],
      "execution_count": 1,
      "outputs": [
        {
          "output_type": "stream",
          "text": [
            "`%tensorflow_version` only switches the major version: 1.x or 2.x.\n",
            "You set: `1.15`. This will be interpreted as: `1.x`.\n",
            "\n",
            "\n",
            "TensorFlow 1.x selected.\n"
          ],
          "name": "stdout"
        }
      ]
    },
    {
      "cell_type": "code",
      "metadata": {
        "id": "fs1gi_Sr-244",
        "colab_type": "code",
        "outputId": "ca3041ac-31f1-4081-f6fc-54562ccfe551",
        "colab": {
          "base_uri": "https://localhost:8080/",
          "height": 35
        }
      },
      "source": [
        "print(tf.__version__)"
      ],
      "execution_count": 0,
      "outputs": [
        {
          "output_type": "stream",
          "text": [
            "1.15.0\n"
          ],
          "name": "stdout"
        }
      ]
    },
    {
      "cell_type": "code",
      "metadata": {
        "id": "sl8kxnQn_CHz",
        "colab_type": "code",
        "outputId": "fd943921-0217-4c9c-b475-8e594b298fe3",
        "colab": {
          "base_uri": "https://localhost:8080/",
          "height": 35
        }
      },
      "source": [
        "import glob\n",
        "import pickle\n",
        "import numpy\n",
        "from music21 import converter, instrument, note, chord\n",
        "from keras.models import Sequential\n",
        "from keras.layers import Dense\n",
        "from keras.layers import Dropout\n",
        "from keras.layers import LSTM \n",
        "from keras.layers import Bidirectional \n",
        "from keras.layers import GRU\n",
        "from keras.layers import Activation\n",
        "from keras.layers import BatchNormalization as BatchNorm\n",
        "from keras.utils import np_utils\n",
        "from keras.callbacks import ModelCheckpoint\n",
        "import tensorflow as tf\n",
        "from sklearn.model_selection import train_test_split\n",
        "import os"
      ],
      "execution_count": 2,
      "outputs": [
        {
          "output_type": "stream",
          "text": [
            "Using TensorFlow backend.\n"
          ],
          "name": "stderr"
        }
      ]
    },
    {
      "cell_type": "code",
      "metadata": {
        "id": "0FtLbgu51w2t",
        "colab_type": "code",
        "colab": {}
      },
      "source": [
        "import keras\n",
        "config = tf.ConfigProto( device_count = {'GPU': 1 , 'CPU': 56} ) \n",
        "sess = tf.Session(config=config) \n",
        "keras.backend.set_session(sess)"
      ],
      "execution_count": 0,
      "outputs": []
    },
    {
      "cell_type": "code",
      "metadata": {
        "id": "iV7RrKjn_oHH",
        "colab_type": "code",
        "colab": {}
      },
      "source": [
        "def get_notes():\n",
        "    \"\"\" Get all the notes and chords from the midi files in the ./midi_songs directory \"\"\"\n",
        "    notes = []\n",
        "    for file in glob.glob(\"/content/drive/My Drive/AIAssignment/midi_songs/*.mid\"):\n",
        "        midi = converter.parse(file)\n",
        "\n",
        "        print(\"Parsing %s\" % file)\n",
        "\n",
        "        notes_to_parse = None\n",
        "\n",
        "        try: # file has instrument parts\n",
        "            s2 = instrument.partitionByInstrument(midi)\n",
        "            notes_to_parse = s2.parts[0].recurse() \n",
        "        except: # file has notes in a flat structure\n",
        "            notes_to_parse = midi.flat.notes\n",
        "\n",
        "        for element in notes_to_parse:\n",
        "            if isinstance(element, note.Note):\n",
        "                notes.append(str(element.pitch))\n",
        "            elif isinstance(element, chord.Chord):\n",
        "                notes.append('.'.join(str(n) for n in element.normalOrder))\n",
        "\n",
        "    with open('/content/drive/My Drive/AIAssignment/data/notes/notes.pkl', 'wb') as filepath:\n",
        "        pickle.dump(notes, filepath)\n",
        "\n",
        "    return notes"
      ],
      "execution_count": 0,
      "outputs": []
    },
    {
      "cell_type": "markdown",
      "metadata": {
        "id": "ksKgOEwzALtk",
        "colab_type": "text"
      },
      "source": [
        "# New Section"
      ]
    },
    {
      "cell_type": "code",
      "metadata": {
        "id": "Zk8vtjc1AOR7",
        "colab_type": "code",
        "outputId": "5dd706ae-c1ce-4ba7-ec2f-c4bf5d2d7c04",
        "colab": {
          "base_uri": "https://localhost:8080/",
          "height": 124
        }
      },
      "source": [
        "from google.colab import drive\n",
        "drive.mount('/content/drive')"
      ],
      "execution_count": 5,
      "outputs": [
        {
          "output_type": "stream",
          "text": [
            "Go to this URL in a browser: https://accounts.google.com/o/oauth2/auth?client_id=947318989803-6bn6qk8qdgf4n4g3pfee6491hc0brc4i.apps.googleusercontent.com&redirect_uri=urn%3aietf%3awg%3aoauth%3a2.0%3aoob&response_type=code&scope=email%20https%3a%2f%2fwww.googleapis.com%2fauth%2fdocs.test%20https%3a%2f%2fwww.googleapis.com%2fauth%2fdrive%20https%3a%2f%2fwww.googleapis.com%2fauth%2fdrive.photos.readonly%20https%3a%2f%2fwww.googleapis.com%2fauth%2fpeopleapi.readonly\n",
            "\n",
            "Enter your authorization code:\n",
            "··········\n",
            "Mounted at /content/drive\n"
          ],
          "name": "stdout"
        }
      ]
    },
    {
      "cell_type": "code",
      "metadata": {
        "id": "yr_Pxcy0_usR",
        "colab_type": "code",
        "colab": {}
      },
      "source": [
        "notes = get_notes()"
      ],
      "execution_count": 0,
      "outputs": []
    },
    {
      "cell_type": "code",
      "metadata": {
        "id": "-vtYDn2iExhM",
        "colab_type": "code",
        "outputId": "a05c347e-5c12-4812-9fc3-63dd349b453e",
        "colab": {
          "base_uri": "https://localhost:8080/",
          "height": 35
        }
      },
      "source": [
        "notes[1]"
      ],
      "execution_count": 0,
      "outputs": [
        {
          "output_type": "execute_result",
          "data": {
            "text/plain": [
              "'7.8.0'"
            ]
          },
          "metadata": {
            "tags": []
          },
          "execution_count": 17
        }
      ]
    },
    {
      "cell_type": "code",
      "metadata": {
        "id": "FWDNq7gJRofY",
        "colab_type": "code",
        "colab": {}
      },
      "source": [
        "def prepare_sequences(notes, n_vocab):\n",
        "    \"\"\" Prepare the sequences used by the Neural Network \"\"\"\n",
        "    sequence_length = 100\n",
        "\n",
        "    # get all pitch names\n",
        "    pitchnames = sorted(set(item for item in notes))\n",
        "\n",
        "     # create a dictionary to map pitches to integers\n",
        "    note_to_int = dict((note, number) for number, note in enumerate(pitchnames))\n",
        "\n",
        "    network_input = []\n",
        "    network_output = []\n",
        "\n",
        "    # create input sequences and the corresponding outputs\n",
        "    for i in range(0, len(notes) - sequence_length, 1):\n",
        "        sequence_in = notes[i:i + sequence_length]\n",
        "        sequence_out = notes[i + sequence_length]\n",
        "        network_input.append([note_to_int[char] for char in sequence_in])\n",
        "        network_output.append(note_to_int[sequence_out])\n",
        "\n",
        "    n_patterns = len(network_input)\n",
        "\n",
        "    # reshape the input into a format compatible with LSTM layers\n",
        "    network_input = numpy.reshape(network_input, (n_patterns, sequence_length, 1))\n",
        "    # normalize input\n",
        "    network_input = network_input / float(n_vocab)\n",
        "\n",
        "    network_output = np_utils.to_categorical(network_output, dtype='float64')\n",
        "    return (network_input, network_output)"
      ],
      "execution_count": 0,
      "outputs": []
    },
    {
      "cell_type": "code",
      "metadata": {
        "id": "nei4iXjDt3Cx",
        "colab_type": "code",
        "colab": {}
      },
      "source": [
        "def create_network_BiLSTM(network_input, n_vocab):\n",
        "    \"\"\" create the structure of the neural network \"\"\"\n",
        "    model = Sequential()\n",
        "    model.add(Bidirectional (LSTM(\n",
        "        512,\n",
        "        input_shape=(network_input.shape[1], network_input.shape[2]),\n",
        "        recurrent_dropout=0.3,\n",
        "        return_sequences=True\n",
        "    )))\n",
        "    model.add(Bidirectional(LSTM(512, return_sequences=True,recurrent_dropout=0.3)))\n",
        "    model.add(LSTM(512))\n",
        "    model.add(BatchNorm())\n",
        "    model.add(Dropout(0.3))\n",
        "    model.add(Dense(256))\n",
        "    model.add(Activation('relu'))\n",
        "    model.add(BatchNorm())\n",
        "    model.add(Dropout(0.3))\n",
        "    model.add(Dense(n_vocab))\n",
        "    model.add(Activation('softmax'))\n",
        "    #model.compile(loss='categorical_crossentropy', optimizer='rmsprop')\n",
        "\n",
        "    return model"
      ],
      "execution_count": 0,
      "outputs": []
    },
    {
      "cell_type": "code",
      "metadata": {
        "id": "NPW6CgTqOPKr",
        "colab_type": "code",
        "colab": {}
      },
      "source": [
        "def create_network_GRU(network_input, n_vocab):\n",
        "    \"\"\" create the structure of the neural network \"\"\"\n",
        "    model = Sequential()\n",
        "    model.add(GRU(\n",
        "        512,\n",
        "        input_shape=(network_input.shape[1], network_input.shape[2]),\n",
        "        recurrent_dropout=0.3,\n",
        "        return_sequences=True\n",
        "    ))\n",
        "    model.add(GRU(512, return_sequences=True,recurrent_dropout=0.3))\n",
        "    model.add(GRU(512))\n",
        "    model.add(BatchNorm())\n",
        "    model.add(Dropout(0.3))\n",
        "    model.add(Dense(256))\n",
        "    model.add(Activation('relu'))\n",
        "    model.add(BatchNorm())\n",
        "    model.add(Dropout(0.3))\n",
        "    model.add(Dense(n_vocab))\n",
        "    model.add(Activation('softmax'))\n",
        "    model.compile(loss='categorical_crossentropy', optimizer='rmsprop')\n",
        "\n",
        "    return model"
      ],
      "execution_count": 0,
      "outputs": []
    },
    {
      "cell_type": "code",
      "metadata": {
        "id": "oUHj2T6HRyQs",
        "colab_type": "code",
        "colab": {}
      },
      "source": [
        "\n",
        "def create_network_LSTM(network_input, n_vocab):\n",
        "    \"\"\" create the structure of the neural network \"\"\"\n",
        "    model = Sequential()\n",
        "    model.add(LSTM(\n",
        "        512,\n",
        "        input_shape=(network_input.shape[1], network_input.shape[2]),\n",
        "        recurrent_dropout=0.3,\n",
        "        return_sequences=True\n",
        "    ))\n",
        "    model.add(LSTM(512, return_sequences=True,recurrent_dropout=0.3))\n",
        "    model.add(LSTM(512))\n",
        "    model.add(BatchNorm())\n",
        "    model.add(Dropout(0.3))\n",
        "    model.add(Dense(256))\n",
        "    model.add(Activation('relu'))\n",
        "    model.add(BatchNorm())\n",
        "    model.add(Dropout(0.3))\n",
        "    model.add(Dense(n_vocab))\n",
        "    model.add(Activation('softmax'))\n",
        "    #model.compile(loss='categorical_crossentropy', optimizer='rmsprop')\n",
        "    return model"
      ],
      "execution_count": 0,
      "outputs": []
    },
    {
      "cell_type": "code",
      "metadata": {
        "id": "gAegXBZYR5lq",
        "colab_type": "code",
        "colab": {}
      },
      "source": [
        "from tensorflow.keras import backend as K\n",
        "def train_network():\n",
        "    \"\"\" Train a Neural Network to generate music \"\"\"\n",
        "\n",
        "    # get amount of pitch names\n",
        "    n_vocab = len(set(notes))\n",
        "\n",
        "    network_input, network_output = prepare_sequences(notes, n_vocab)\n",
        "    X_train, X_test, y_train, y_test = train_test_split(network_input,network_output, test_size=0.10)\n",
        "    # resolver = tf.distribute.cluster_resolver.TPUClusterResolver(tpu='grpc://' + os.environ['COLAB_TPU_ADDR'])\n",
        "    # tf.config.experimental_connect_to_host(resolver.master())\n",
        "    # tf.tpu.experimental.initialize_tpu_system(resolver)\n",
        "    # #tf.initialize_all_variables().run()\n",
        "    # strategy = tf.distribute.experimental.TPUStrategy(resolver)\n",
        "\n",
        "    model = create_network_BiLSTM(X_train,n_vocab)\n",
        "    model.compile(loss='categorical_crossentropy', optimizer='rmsprop')\n",
        "    #model = create_network_LSTM(network_input, n_vocab)\n",
        "    #model = create_network_BiLSTM(network_input, n_vocab)\n",
        "    #model = create_network_GRU(network_input, n_vocab)\n",
        "    X_train = X_train.astype(numpy.float32, copy=False)\n",
        "    y_train = y_train.astype(numpy.float32, copy=False)\n",
        "    train(model, X_train, y_train)\n",
        "    return X_train, X_test, y_train, y_test"
      ],
      "execution_count": 0,
      "outputs": []
    },
    {
      "cell_type": "code",
      "metadata": {
        "id": "D-21hzjfy9Zp",
        "colab_type": "code",
        "colab": {}
      },
      "source": [
        "def train(model, network_input, network_output):\n",
        "    \"\"\" train the neural network \"\"\"\n",
        "    \n",
        "    filepath = \"/content/drive/My Drive/AIAssignment/BiLSTM/weights-improvement-{epoch:02d}-{loss:.4f}-bigger-gru.hdf5\"\n",
        "    checkpoint = ModelCheckpoint(\n",
        "        filepath,\n",
        "        monitor='loss',\n",
        "        verbose=0,\n",
        "        save_best_only=True,\n",
        "        mode='min'\n",
        "    )\n",
        "    callbacks_list = [checkpoint]\n",
        "    model.fit(network_input, network_output, epochs=200, batch_size=128, callbacks=callbacks_list)\n"
      ],
      "execution_count": 0,
      "outputs": []
    },
    {
      "cell_type": "code",
      "metadata": {
        "id": "dnj7IUA1SD9o",
        "colab_type": "code",
        "outputId": "1ab4aa5c-5f70-40b8-b28c-1917d2ba8c9c",
        "colab": {
          "base_uri": "https://localhost:8080/",
          "height": 1000
        }
      },
      "source": [
        "X_train, X_test, y_train, y_test = train_network()"
      ],
      "execution_count": 0,
      "outputs": [
        {
          "output_type": "stream",
          "text": [
            "WARNING:tensorflow:From /usr/local/lib/python3.6/dist-packages/keras/backend/tensorflow_backend.py:66: The name tf.get_default_graph is deprecated. Please use tf.compat.v1.get_default_graph instead.\n",
            "\n",
            "WARNING:tensorflow:From /usr/local/lib/python3.6/dist-packages/keras/optimizers.py:793: The name tf.train.Optimizer is deprecated. Please use tf.compat.v1.train.Optimizer instead.\n",
            "\n",
            "WARNING:tensorflow:From /usr/local/lib/python3.6/dist-packages/keras/backend/tensorflow_backend.py:541: The name tf.placeholder is deprecated. Please use tf.compat.v1.placeholder instead.\n",
            "\n",
            "WARNING:tensorflow:From /usr/local/lib/python3.6/dist-packages/keras/backend/tensorflow_backend.py:4432: The name tf.random_uniform is deprecated. Please use tf.random.uniform instead.\n",
            "\n",
            "WARNING:tensorflow:From /usr/local/lib/python3.6/dist-packages/keras/backend/tensorflow_backend.py:148: The name tf.placeholder_with_default is deprecated. Please use tf.compat.v1.placeholder_with_default instead.\n",
            "\n",
            "WARNING:tensorflow:From /usr/local/lib/python3.6/dist-packages/keras/backend/tensorflow_backend.py:3733: calling dropout (from tensorflow.python.ops.nn_ops) with keep_prob is deprecated and will be removed in a future version.\n",
            "Instructions for updating:\n",
            "Please use `rate` instead of `keep_prob`. Rate should be set to `rate = 1 - keep_prob`.\n",
            "WARNING:tensorflow:From /usr/local/lib/python3.6/dist-packages/keras/backend/tensorflow_backend.py:3576: The name tf.log is deprecated. Please use tf.math.log instead.\n",
            "\n",
            "WARNING:tensorflow:From /tensorflow-1.15.2/python3.6/tensorflow_core/python/ops/math_grad.py:1424: where (from tensorflow.python.ops.array_ops) is deprecated and will be removed in a future version.\n",
            "Instructions for updating:\n",
            "Use tf.where in 2.0, which has the same broadcast rule as np.where\n",
            "WARNING:tensorflow:From /usr/local/lib/python3.6/dist-packages/keras/backend/tensorflow_backend.py:1033: The name tf.assign_add is deprecated. Please use tf.compat.v1.assign_add instead.\n",
            "\n",
            "WARNING:tensorflow:From /usr/local/lib/python3.6/dist-packages/keras/backend/tensorflow_backend.py:1020: The name tf.assign is deprecated. Please use tf.compat.v1.assign instead.\n",
            "\n",
            "Epoch 1/200\n",
            "WARNING:tensorflow:From /usr/local/lib/python3.6/dist-packages/keras/backend/tensorflow_backend.py:190: The name tf.get_default_session is deprecated. Please use tf.compat.v1.get_default_session instead.\n",
            "\n",
            "WARNING:tensorflow:From /usr/local/lib/python3.6/dist-packages/keras/backend/tensorflow_backend.py:207: The name tf.global_variables is deprecated. Please use tf.compat.v1.global_variables instead.\n",
            "\n",
            "WARNING:tensorflow:From /usr/local/lib/python3.6/dist-packages/keras/backend/tensorflow_backend.py:216: The name tf.is_variable_initialized is deprecated. Please use tf.compat.v1.is_variable_initialized instead.\n",
            "\n",
            "WARNING:tensorflow:From /usr/local/lib/python3.6/dist-packages/keras/backend/tensorflow_backend.py:223: The name tf.variables_initializer is deprecated. Please use tf.compat.v1.variables_initializer instead.\n",
            "\n",
            "25011/25011 [==============================] - 146s 6ms/step - loss: 5.4896\n",
            "Epoch 2/200\n",
            "25011/25011 [==============================] - 134s 5ms/step - loss: 4.7911\n",
            "Epoch 3/200\n",
            "25011/25011 [==============================] - 133s 5ms/step - loss: 4.7530\n",
            "Epoch 4/200\n",
            "25011/25011 [==============================] - 133s 5ms/step - loss: 4.6297\n",
            "Epoch 5/200\n",
            "25011/25011 [==============================] - 133s 5ms/step - loss: 4.5594\n",
            "Epoch 6/200\n",
            "25011/25011 [==============================] - 131s 5ms/step - loss: 4.5332\n",
            "Epoch 7/200\n",
            "25011/25011 [==============================] - 132s 5ms/step - loss: 4.5035\n",
            "Epoch 8/200\n",
            "25011/25011 [==============================] - 131s 5ms/step - loss: 4.4696\n",
            "Epoch 9/200\n",
            "25011/25011 [==============================] - 131s 5ms/step - loss: 4.4427\n",
            "Epoch 10/200\n",
            "25011/25011 [==============================] - 131s 5ms/step - loss: 4.4152\n",
            "Epoch 11/200\n",
            "25011/25011 [==============================] - 130s 5ms/step - loss: 4.3791\n",
            "Epoch 12/200\n",
            "25011/25011 [==============================] - 131s 5ms/step - loss: 4.3393\n",
            "Epoch 13/200\n",
            "25011/25011 [==============================] - 130s 5ms/step - loss: 4.2720\n",
            "Epoch 14/200\n",
            "25011/25011 [==============================] - 131s 5ms/step - loss: 4.1972\n",
            "Epoch 15/200\n",
            "25011/25011 [==============================] - 132s 5ms/step - loss: 4.1291\n",
            "Epoch 16/200\n",
            "25011/25011 [==============================] - 133s 5ms/step - loss: 4.0441\n",
            "Epoch 17/200\n",
            "25011/25011 [==============================] - 133s 5ms/step - loss: 3.9481\n",
            "Epoch 18/200\n",
            "25011/25011 [==============================] - 133s 5ms/step - loss: 3.8454\n",
            "Epoch 19/200\n",
            "25011/25011 [==============================] - 133s 5ms/step - loss: 3.7261\n",
            "Epoch 20/200\n",
            "25011/25011 [==============================] - 132s 5ms/step - loss: 3.6181\n",
            "Epoch 21/200\n",
            "20608/25011 [=======================>......] - ETA: 23s - loss: 3.5214"
          ],
          "name": "stdout"
        }
      ]
    },
    {
      "cell_type": "code",
      "metadata": {
        "id": "a4T7skGCmnN1",
        "colab_type": "code",
        "colab": {}
      },
      "source": [
        "    with open('/content/drive/My Drive/AIAssignment/data/notes (1)', 'rb') as filepath:\n",
        "      notes = pickle.load(filepath)\n",
        "      # n_vocab = len(set(notes))\n",
        "      # network_input, network_output = prepare_sequences(notes, n_vocab)\n",
        "      # model = create_network_GRU(network_input,n_vocab)\n",
        "    \n"
      ],
      "execution_count": 0,
      "outputs": []
    },
    {
      "cell_type": "code",
      "metadata": {
        "id": "-ztCEq8rAQyX",
        "colab_type": "code",
        "colab": {}
      },
      "source": [
        "resolver = tf.distribute.cluster_resolver.TPUClusterResolver(tpu='grpc://' + os.environ['COLAB_TPU_ADDR'])\n",
        "tf.config.experimental_connect_to_host(resolver.master())\n",
        "tf.tpu.experimental.initialize_tpu_system(resolver)\n",
        "strategy = tf.distribute.experimental.TPUStrategy(resolver)\n",
        "\n",
        "with strategy.scope():\n",
        "    model = create_model()"
      ],
      "execution_count": 0,
      "outputs": []
    },
    {
      "cell_type": "code",
      "metadata": {
        "id": "7ptgai_xw86w",
        "colab_type": "code",
        "outputId": "1fb7f368-0451-44ad-d0c7-6c70ca0892b8",
        "colab": {
          "base_uri": "https://localhost:8080/",
          "height": 35
        }
      },
      "source": [
        "network_input.shape"
      ],
      "execution_count": 0,
      "outputs": [
        {
          "output_type": "execute_result",
          "data": {
            "text/plain": [
              "(27790, 100, 1)"
            ]
          },
          "metadata": {
            "tags": []
          },
          "execution_count": 20
        }
      ]
    },
    {
      "cell_type": "code",
      "metadata": {
        "id": "PBf2BrjdxAR2",
        "colab_type": "code",
        "outputId": "b4ad97e6-c879-4355-985f-1b6cd66d6cc0",
        "colab": {
          "base_uri": "https://localhost:8080/",
          "height": 35
        }
      },
      "source": [
        "network_output.shape"
      ],
      "execution_count": 0,
      "outputs": [
        {
          "output_type": "execute_result",
          "data": {
            "text/plain": [
              "(27790, 279)"
            ]
          },
          "metadata": {
            "tags": []
          },
          "execution_count": 21
        }
      ]
    },
    {
      "cell_type": "code",
      "metadata": {
        "id": "SoVecs5knhas",
        "colab_type": "code",
        "colab": {}
      },
      "source": [
        "model.load_weights('/content/drive/My Drive/AIAssignment/GRU Weights/weights-improvement-98-0.6861-bigger-gru.hdf5')"
      ],
      "execution_count": 0,
      "outputs": []
    },
    {
      "cell_type": "code",
      "metadata": {
        "id": "iZ_yf_v4nrjv",
        "colab_type": "code",
        "colab": {}
      },
      "source": [
        "model.save('/content/drive/My Drive/AIAssignment/model_gru.h5')"
      ],
      "execution_count": 0,
      "outputs": []
    },
    {
      "cell_type": "code",
      "metadata": {
        "id": "w6CNU6DW5MzN",
        "colab_type": "code",
        "outputId": "8ce9f48c-da7d-456f-d730-de96f05b377c",
        "colab": {
          "base_uri": "https://localhost:8080/",
          "height": 297
        }
      },
      "source": [
        "from tensorflow.keras.models import load_model\n",
        "model = load_model('/content/drive/My Drive/AIAssignment/model_lstm.h5')"
      ],
      "execution_count": 6,
      "outputs": [
        {
          "output_type": "stream",
          "text": [
            "WARNING:tensorflow:From /tensorflow-1.15.2/python3.6/tensorflow_core/python/ops/init_ops.py:97: calling GlorotUniform.__init__ (from tensorflow.python.ops.init_ops) with dtype is deprecated and will be removed in a future version.\n",
            "Instructions for updating:\n",
            "Call initializer instance with the dtype argument instead of passing it to the constructor\n",
            "WARNING:tensorflow:From /tensorflow-1.15.2/python3.6/tensorflow_core/python/ops/init_ops.py:97: calling Orthogonal.__init__ (from tensorflow.python.ops.init_ops) with dtype is deprecated and will be removed in a future version.\n",
            "Instructions for updating:\n",
            "Call initializer instance with the dtype argument instead of passing it to the constructor\n",
            "WARNING:tensorflow:From /tensorflow-1.15.2/python3.6/tensorflow_core/python/ops/init_ops.py:97: calling Zeros.__init__ (from tensorflow.python.ops.init_ops) with dtype is deprecated and will be removed in a future version.\n",
            "Instructions for updating:\n",
            "Call initializer instance with the dtype argument instead of passing it to the constructor\n",
            "WARNING:tensorflow:From /tensorflow-1.15.2/python3.6/tensorflow_core/python/ops/resource_variable_ops.py:1630: calling BaseResourceVariable.__init__ (from tensorflow.python.ops.resource_variable_ops) with constraint is deprecated and will be removed in a future version.\n",
            "Instructions for updating:\n",
            "If using Keras pass *_constraint arguments to layers.\n",
            "WARNING:tensorflow:From /tensorflow-1.15.2/python3.6/tensorflow_core/python/ops/init_ops.py:97: calling Ones.__init__ (from tensorflow.python.ops.init_ops) with dtype is deprecated and will be removed in a future version.\n",
            "Instructions for updating:\n",
            "Call initializer instance with the dtype argument instead of passing it to the constructor\n"
          ],
          "name": "stdout"
        }
      ]
    },
    {
      "cell_type": "code",
      "metadata": {
        "id": "f6T1huGVSVwl",
        "colab_type": "code",
        "colab": {}
      },
      "source": [
        "from music21 import instrument, note, stream, chord\n",
        "def generate():\n",
        "    \"\"\" Generate a piano midi file \"\"\"\n",
        "    #load the notes used to train the model\n",
        "    with open('/content/drive/My Drive/AIAssignment/data/notes/notes.pkl', 'rb') as filepath:\n",
        "        notes = pickle.load(filepath)\n",
        "\n",
        "    # Get all pitch names\n",
        "    pitchnames = sorted(set(item for item in notes))\n",
        "    # Get all pitch names\n",
        "    n_vocab = len(set(notes))\n",
        "\n",
        "    network_input, normalized_input = prepare_sequences_out(notes, pitchnames, n_vocab)\n",
        "    #model = create_network(normalized_input, n_vocab)\n",
        "    prediction_output = generate_notes(model, network_input, pitchnames, n_vocab)\n",
        "    create_midi(prediction_output)\n",
        "\n",
        "def prepare_sequences_out(notes, pitchnames, n_vocab):\n",
        "    \"\"\" Prepare the sequences used by the Neural Network \"\"\"\n",
        "    # map between notes and integers and back\n",
        "    note_to_int = dict((note, number) for number, note in enumerate(pitchnames))\n",
        "\n",
        "    sequence_length = 100\n",
        "    network_input = []\n",
        "    output = []\n",
        "    for i in range(0, len(notes) - sequence_length, 1):\n",
        "        sequence_in = notes[i:i + sequence_length]\n",
        "        sequence_out = notes[i + sequence_length]\n",
        "        network_input.append([note_to_int[char] for char in sequence_in])\n",
        "        output.append(note_to_int[sequence_out])\n",
        "\n",
        "    n_patterns = len(network_input)\n",
        "\n",
        "    # reshape the input into a format compatible with LSTM layers\n",
        "    normalized_input = numpy.reshape(network_input, (n_patterns, sequence_length, 1))\n",
        "    # normalize input\n",
        "    normalized_input = normalized_input / float(n_vocab)\n",
        "\n",
        "    return (network_input, normalized_input)\n",
        "\n",
        "\n",
        "\n",
        "def generate_notes(model, network_input, pitchnames, n_vocab):\n",
        "    \"\"\" Generate notes from the neural network based on a sequence of notes \"\"\"\n",
        "    # pick a random sequence from the input as a starting point for the prediction\n",
        "    start = numpy.random.randint(0, len(network_input)-1)\n",
        "\n",
        "    int_to_note = dict((number, note) for number, note in enumerate(pitchnames))\n",
        "\n",
        "    pattern = network_input[start]\n",
        "    prediction_output = []\n",
        "\n",
        "    # generate 500 notes\n",
        "    for note_index in range(500):\n",
        "        print(note_index)\n",
        "        prediction_input = numpy.reshape(pattern, (1, len(pattern), 1))\n",
        "        prediction_input = prediction_input / float(n_vocab)\n",
        "        prediction_input = prediction_input.astype(numpy.float32, copy=False)\n",
        "\n",
        "\n",
        "        prediction = model.predict(prediction_input, verbose=0)\n",
        "\n",
        "        index = numpy.argmax(prediction)\n",
        "        try:\n",
        "          result = int_to_note[index]\n",
        "          prediction_output.append(result)\n",
        "        except Exception as e:\n",
        "          print(e)\n",
        "          pass\n",
        "\n",
        "        \n",
        "\n",
        "        pattern.append(index)\n",
        "        pattern = pattern[1:len(pattern)]\n",
        "\n",
        "    return prediction_output\n",
        "\n",
        "def create_midi(prediction_output):\n",
        "    \"\"\" convert the output from the prediction to notes and create a midi file\n",
        "        from the notes \"\"\"\n",
        "    offset = 0\n",
        "    output_notes = []\n",
        "\n",
        "    # create note and chord objects based on the values generated by the model\n",
        "    for pattern in prediction_output:\n",
        "        # pattern is a chord\n",
        "        if ('.' in pattern) or pattern.isdigit():\n",
        "            notes_in_chord = pattern.split('.')\n",
        "            notes = []\n",
        "            for current_note in notes_in_chord:\n",
        "                new_note = note.Note(int(current_note))\n",
        "                new_note.storedInstrument = instrument.Piano()\n",
        "                notes.append(new_note)\n",
        "            new_chord = chord.Chord(notes)\n",
        "            new_chord.offset = offset\n",
        "            output_notes.append(new_chord)\n",
        "        # pattern is a note\n",
        "        else:\n",
        "            new_note = note.Note(pattern)\n",
        "            new_note.offset = offset\n",
        "            new_note.storedInstrument = instrument.Piano()\n",
        "            output_notes.append(new_note)\n",
        "\n",
        "        # increase offset each iteration so that notes do not stack\n",
        "        offset += 0.5\n",
        "\n",
        "    midi_stream = stream.Stream(output_notes)\n",
        "\n",
        "    midi_stream.write('midi', fp='test_output.mid')\n"
      ],
      "execution_count": 0,
      "outputs": []
    },
    {
      "cell_type": "code",
      "metadata": {
        "id": "1d1jMo3gmMbW",
        "colab_type": "code",
        "colab": {}
      },
      "source": [
        "generate()"
      ],
      "execution_count": 0,
      "outputs": []
    },
    {
      "cell_type": "code",
      "metadata": {
        "id": "GJDDcutbBgSR",
        "colab_type": "code",
        "outputId": "96dc7505-64f7-4474-a2b7-da08cec4a39e",
        "colab": {
          "base_uri": "https://localhost:8080/",
          "height": 35
        }
      },
      "source": [
        "network_input.shape"
      ],
      "execution_count": 0,
      "outputs": [
        {
          "output_type": "execute_result",
          "data": {
            "text/plain": [
              "(27790, 100, 1)"
            ]
          },
          "metadata": {
            "tags": []
          },
          "execution_count": 14
        }
      ]
    },
    {
      "cell_type": "code",
      "metadata": {
        "id": "tnejY5DKJOYq",
        "colab_type": "code",
        "outputId": "1640c195-d780-4017-a13c-30a6f1225e24",
        "colab": {
          "base_uri": "https://localhost:8080/",
          "height": 35
        }
      },
      "source": [
        "model.metrics_names"
      ],
      "execution_count": 0,
      "outputs": [
        {
          "output_type": "execute_result",
          "data": {
            "text/plain": [
              "['loss']"
            ]
          },
          "metadata": {
            "tags": []
          },
          "execution_count": 16
        }
      ]
    },
    {
      "cell_type": "code",
      "metadata": {
        "id": "V8JLrN2uEx5f",
        "colab_type": "code",
        "outputId": "b630c81c-9acb-4065-90a9-5c5cb07f3788",
        "colab": {
          "base_uri": "https://localhost:8080/",
          "height": 1000
        }
      },
      "source": [
        "help(model.evaluate)"
      ],
      "execution_count": 0,
      "outputs": [
        {
          "output_type": "stream",
          "text": [
            "Help on method evaluate in module keras.engine.training:\n",
            "\n",
            "evaluate(x=None, y=None, batch_size=None, verbose=1, sample_weight=None, steps=None, callbacks=None, max_queue_size=10, workers=1, use_multiprocessing=False) method of keras.engine.sequential.Sequential instance\n",
            "    Returns the loss value & metrics values for the model in test mode.\n",
            "    \n",
            "    Computation is done in batches.\n",
            "    \n",
            "    # Arguments\n",
            "        x: Input data. It could be:\n",
            "            - A Numpy array (or array-like), or a list of arrays\n",
            "              (in case the model has multiple inputs).\n",
            "            - A dict mapping input names to the corresponding\n",
            "              array/tensors, if the model has named inputs.\n",
            "            - A generator or `keras.utils.Sequence` returning\n",
            "              `(inputs, targets)` or `(inputs, targets, sample weights)`.\n",
            "            - None (default) if feeding from framework-native\n",
            "              tensors (e.g. TensorFlow data tensors).\n",
            "        y: Target data. Like the input data `x`,\n",
            "            it could be either Numpy array(s), framework-native tensor(s),\n",
            "            list of Numpy arrays (if the model has multiple outputs) or\n",
            "            None (default) if feeding from framework-native tensors\n",
            "            (e.g. TensorFlow data tensors).\n",
            "            If output layers in the model are named, you can also pass a\n",
            "            dictionary mapping output names to Numpy arrays.\n",
            "            If `x` is a generator, or `keras.utils.Sequence` instance,\n",
            "            `y` should not be specified (since targets will be obtained\n",
            "            from `x`).\n",
            "        batch_size: Integer or `None`.\n",
            "            Number of samples per gradient update.\n",
            "            If unspecified, `batch_size` will default to 32.\n",
            "            Do not specify the `batch_size` is your data is in the\n",
            "            form of symbolic tensors, generators, or\n",
            "            `keras.utils.Sequence` instances (since they generate batches).\n",
            "        verbose: 0 or 1. Verbosity mode.\n",
            "            0 = silent, 1 = progress bar.\n",
            "        sample_weight: Optional Numpy array of weights for\n",
            "            the test samples, used for weighting the loss function.\n",
            "            You can either pass a flat (1D)\n",
            "            Numpy array with the same length as the input samples\n",
            "            (1:1 mapping between weights and samples),\n",
            "            or in the case of temporal data,\n",
            "            you can pass a 2D array with shape\n",
            "            `(samples, sequence_length)`,\n",
            "            to apply a different weight to every timestep of every sample.\n",
            "            In this case you should make sure to specify\n",
            "            `sample_weight_mode=\"temporal\"` in `compile()`.\n",
            "        steps: Integer or `None`.\n",
            "            Total number of steps (batches of samples)\n",
            "            before declaring the evaluation round finished.\n",
            "            Ignored with the default value of `None`.\n",
            "        callbacks: List of `keras.callbacks.Callback` instances.\n",
            "            List of callbacks to apply during evaluation.\n",
            "            See [callbacks](/callbacks).\n",
            "        max_queue_size: Integer. Used for generator or `keras.utils.Sequence`\n",
            "            input only. Maximum size for the generator queue.\n",
            "            If unspecified, `max_queue_size` will default to 10.\n",
            "        workers: Integer. Used for generator or `keras.utils.Sequence` input\n",
            "            only. Maximum number of processes to spin up when using\n",
            "            process-based threading. If unspecified, `workers` will default\n",
            "            to 1. If 0, will execute the generator on the main thread.\n",
            "        use_multiprocessing: Boolean. Used for generator or\n",
            "            `keras.utils.Sequence` input only. If `True`, use process-based\n",
            "            threading. If unspecified, `use_multiprocessing` will default to\n",
            "            `False`. Note that because this implementation relies on\n",
            "            multiprocessing, you should not pass non-picklable arguments to\n",
            "            the generator as they can't be passed easily to children processes.\n",
            "    \n",
            "    # Raises\n",
            "        ValueError: in case of invalid arguments.\n",
            "    \n",
            "    # Returns\n",
            "        Scalar test loss (if the model has a single output and no metrics)\n",
            "        or list of scalars (if the model has multiple outputs\n",
            "        and/or metrics). The attribute `model.metrics_names` will give you\n",
            "        the display labels for the scalar outputs.\n",
            "\n"
          ],
          "name": "stdout"
        }
      ]
    },
    {
      "cell_type": "code",
      "metadata": {
        "id": "4_AxfLocLYrt",
        "colab_type": "code",
        "colab": {}
      },
      "source": [
        "from sklearn.metrics import accuracy_score\n",
        "pr = model.predict_classes(X_test)\n"
      ],
      "execution_count": 0,
      "outputs": []
    },
    {
      "cell_type": "code",
      "metadata": {
        "id": "BczlwasC12Xj",
        "colab_type": "code",
        "outputId": "b4aa5459-a320-4355-e657-8eea99a2ffc4",
        "colab": {
          "base_uri": "https://localhost:8080/",
          "height": 1000
        }
      },
      "source": [
        "from sklearn.metrics import classification_report\n",
        "print(classification_report(rounded_labels, pr))"
      ],
      "execution_count": 0,
      "outputs": [
        {
          "output_type": "stream",
          "text": [
            "ERROR! Session/line number was not unique in database. History logging moved to new session 60\n",
            "              precision    recall  f1-score   support\n",
            "\n",
            "           0       0.86      0.86      0.86         7\n",
            "           2       0.00      0.00      0.00         1\n",
            "           3       0.00      0.00      0.00         2\n",
            "           6       1.00      0.67      0.80         3\n",
            "           9       0.00      0.00      0.00         1\n",
            "          11       1.00      0.80      0.89        10\n",
            "          13       0.50      1.00      0.67         1\n",
            "          14       1.00      0.92      0.96        12\n",
            "          15       1.00      1.00      1.00         3\n",
            "          16       0.94      1.00      0.97        15\n",
            "          17       1.00      1.00      1.00         1\n",
            "          19       1.00      1.00      1.00         1\n",
            "          20       1.00      1.00      1.00         2\n",
            "          21       1.00      0.50      0.67         2\n",
            "          24       0.62      0.83      0.71         6\n",
            "          25       0.00      0.00      0.00         1\n",
            "          28       0.00      0.00      0.00         1\n",
            "          29       0.89      1.00      0.94         8\n",
            "          30       0.92      0.96      0.94        23\n",
            "          31       0.78      0.88      0.82         8\n",
            "          33       1.00      1.00      1.00        17\n",
            "          34       1.00      1.00      1.00         3\n",
            "          35       1.00      1.00      1.00         8\n",
            "          36       1.00      1.00      1.00         2\n",
            "          39       1.00      1.00      1.00         1\n",
            "          40       1.00      1.00      1.00         3\n",
            "          41       1.00      0.50      0.67         2\n",
            "          42       1.00      1.00      1.00         1\n",
            "          43       1.00      1.00      1.00         2\n",
            "          44       1.00      0.50      0.67         2\n",
            "          45       1.00      1.00      1.00         3\n",
            "          47       0.00      0.00      0.00         1\n",
            "          48       1.00      1.00      1.00         8\n",
            "          49       0.50      0.75      0.60         4\n",
            "          50       1.00      1.00      1.00         4\n",
            "          53       0.50      1.00      0.67         1\n",
            "          55       1.00      1.00      1.00         1\n",
            "          56       1.00      0.75      0.86         4\n",
            "          58       0.91      0.91      0.91        11\n",
            "          59       0.00      0.00      0.00         1\n",
            "          61       0.00      0.00      0.00         0\n",
            "          63       1.00      1.00      1.00         1\n",
            "          64       1.00      1.00      1.00         1\n",
            "          65       1.00      1.00      1.00         3\n",
            "          66       1.00      1.00      1.00         2\n",
            "          67       1.00      0.94      0.97        16\n",
            "          69       0.81      0.96      0.88        23\n",
            "          72       1.00      1.00      1.00         1\n",
            "          76       0.00      0.00      0.00         1\n",
            "          77       0.77      0.91      0.83        11\n",
            "          81       0.94      0.94      0.94        18\n",
            "          82       0.94      1.00      0.97        16\n",
            "          84       0.00      0.00      0.00         1\n",
            "          85       0.94      1.00      0.97        17\n",
            "          86       0.80      1.00      0.89         4\n",
            "          87       1.00      1.00      1.00         1\n",
            "          88       1.00      1.00      1.00         7\n",
            "          92       1.00      1.00      1.00         2\n",
            "          95       1.00      0.71      0.83         7\n",
            "          96       1.00      1.00      1.00         3\n",
            "          99       1.00      1.00      1.00         3\n",
            "         100       1.00      1.00      1.00         4\n",
            "         102       1.00      1.00      1.00         2\n",
            "         103       1.00      1.00      1.00         1\n",
            "         104       0.89      0.89      0.89         9\n",
            "         105       1.00      1.00      1.00         3\n",
            "         106       0.00      0.00      0.00         1\n",
            "         110       0.00      0.00      0.00         1\n",
            "         112       0.00      0.00      0.00         1\n",
            "         114       1.00      1.00      1.00         6\n",
            "         115       0.00      0.00      0.00         1\n",
            "         118       1.00      1.00      1.00        30\n",
            "         119       1.00      0.67      0.80         3\n",
            "         121       0.96      0.96      0.96        27\n",
            "         122       1.00      1.00      1.00         4\n",
            "         123       1.00      1.00      1.00        10\n",
            "         124       1.00      1.00      1.00         4\n",
            "         125       0.00      0.00      0.00         1\n",
            "         126       1.00      1.00      1.00         1\n",
            "         128       1.00      1.00      1.00         4\n",
            "         132       0.83      0.91      0.87        11\n",
            "         133       1.00      1.00      1.00         5\n",
            "         135       1.00      1.00      1.00         9\n",
            "         136       1.00      1.00      1.00         4\n",
            "         138       1.00      1.00      1.00         5\n",
            "         140       1.00      1.00      1.00         7\n",
            "         144       0.00      0.00      0.00         1\n",
            "         146       1.00      1.00      1.00         1\n",
            "         148       1.00      0.67      0.80         6\n",
            "         149       0.00      0.00      0.00         2\n",
            "         151       1.00      1.00      1.00         6\n",
            "         153       1.00      1.00      1.00         7\n",
            "         154       1.00      1.00      1.00         8\n",
            "         155       0.67      1.00      0.80         2\n",
            "         156       1.00      0.50      0.67         2\n",
            "         157       1.00      1.00      1.00         2\n",
            "         158       1.00      1.00      1.00         2\n",
            "         160       0.70      1.00      0.82         7\n",
            "         162       1.00      1.00      1.00        10\n",
            "         164       1.00      1.00      1.00         5\n",
            "         165       0.00      0.00      0.00         1\n",
            "         168       1.00      1.00      1.00         2\n",
            "         169       1.00      1.00      1.00         5\n",
            "         170       1.00      0.88      0.93         8\n",
            "         172       0.83      1.00      0.91        10\n",
            "         173       1.00      1.00      1.00         1\n",
            "         176       1.00      1.00      1.00         6\n",
            "         178       1.00      1.00      1.00         4\n",
            "         179       0.00      0.00      0.00         2\n",
            "         183       0.00      0.00      0.00         1\n",
            "         185       0.88      1.00      0.93         7\n",
            "         186       0.88      0.78      0.82         9\n",
            "         187       1.00      1.00      1.00         1\n",
            "         188       1.00      1.00      1.00         2\n",
            "         190       0.67      1.00      0.80         4\n",
            "         191       1.00      1.00      1.00         9\n",
            "         193       0.00      0.00      0.00         1\n",
            "         194       1.00      1.00      1.00         3\n",
            "         197       1.00      0.50      0.67         2\n",
            "         200       0.89      1.00      0.94        17\n",
            "         201       0.00      0.00      0.00         1\n",
            "         203       0.92      0.96      0.94        23\n",
            "         204       0.92      0.97      0.94        68\n",
            "         205       0.95      0.92      0.93        75\n",
            "         206       0.89      0.88      0.88        65\n",
            "         207       0.73      0.93      0.82        29\n",
            "         208       1.00      1.00      1.00         1\n",
            "         209       1.00      1.00      1.00        12\n",
            "         210       0.98      0.95      0.96        42\n",
            "         211       1.00      1.00      1.00        29\n",
            "         212       0.81      0.89      0.85        38\n",
            "         213       1.00      0.73      0.85        15\n",
            "         216       0.75      1.00      0.86         6\n",
            "         217       0.85      0.90      0.88        31\n",
            "         218       0.97      0.93      0.95        41\n",
            "         219       1.00      0.96      0.98        57\n",
            "         220       0.92      0.92      0.92        12\n",
            "         223       1.00      0.91      0.95        22\n",
            "         224       0.96      0.88      0.92        25\n",
            "         225       0.93      0.93      0.93        45\n",
            "         226       0.94      0.92      0.93        36\n",
            "         227       0.88      0.88      0.88         8\n",
            "         228       0.00      0.00      0.00         1\n",
            "         230       0.75      0.86      0.80        14\n",
            "         231       0.84      1.00      0.91        26\n",
            "         232       0.93      0.90      0.91        41\n",
            "         233       0.96      0.91      0.93        53\n",
            "         234       0.81      0.85      0.83        20\n",
            "         237       0.93      0.91      0.92        55\n",
            "         238       0.93      0.97      0.95        59\n",
            "         239       0.96      0.91      0.94        82\n",
            "         240       0.91      0.88      0.90        59\n",
            "         241       0.91      0.83      0.87        12\n",
            "         243       0.00      0.00      0.00         2\n",
            "         244       0.92      1.00      0.96        22\n",
            "         245       0.89      0.89      0.89        27\n",
            "         246       1.00      0.91      0.95        23\n",
            "         247       0.84      0.93      0.88        28\n",
            "         248       1.00      1.00      1.00         5\n",
            "         249       1.00      1.00      1.00         5\n",
            "         250       0.97      0.97      0.97        40\n",
            "         251       0.92      0.92      0.92        48\n",
            "         252       0.90      0.94      0.92        65\n",
            "         253       0.88      0.88      0.88        60\n",
            "         254       0.91      0.91      0.91        11\n",
            "         255       0.33      1.00      0.50         1\n",
            "         256       0.94      1.00      0.97        31\n",
            "         257       0.98      0.91      0.94        45\n",
            "         258       0.87      0.98      0.92        46\n",
            "         259       0.86      0.82      0.84        38\n",
            "         260       1.00      1.00      1.00         5\n",
            "         261       1.00      1.00      1.00         8\n",
            "         262       1.00      0.92      0.96        52\n",
            "         263       0.89      0.94      0.91        17\n",
            "         264       0.95      0.93      0.94        75\n",
            "         265       0.91      0.80      0.85        49\n",
            "         266       0.57      1.00      0.73         4\n",
            "         267       0.67      1.00      0.80         4\n",
            "         268       0.97      0.93      0.95        30\n",
            "         269       0.95      0.95      0.95        20\n",
            "         270       0.96      0.98      0.97        49\n",
            "         271       0.93      0.81      0.87        16\n",
            "         272       1.00      1.00      1.00         1\n",
            "         273       0.50      0.33      0.40         3\n",
            "         274       0.98      0.98      0.98        59\n",
            "         275       0.90      1.00      0.95        46\n",
            "         276       0.86      0.91      0.88        67\n",
            "         277       0.91      0.83      0.87        35\n",
            "         278       0.80      1.00      0.89         4\n",
            "\n",
            "    accuracy                           0.92      2779\n",
            "   macro avg       0.81      0.81      0.81      2779\n",
            "weighted avg       0.92      0.92      0.92      2779\n",
            "\n"
          ],
          "name": "stdout"
        },
        {
          "output_type": "stream",
          "text": [
            "/usr/local/lib/python3.6/dist-packages/sklearn/metrics/_classification.py:1272: UndefinedMetricWarning: Precision and F-score are ill-defined and being set to 0.0 in labels with no predicted samples. Use `zero_division` parameter to control this behavior.\n",
            "  _warn_prf(average, modifier, msg_start, len(result))\n",
            "/usr/local/lib/python3.6/dist-packages/sklearn/metrics/_classification.py:1272: UndefinedMetricWarning: Recall and F-score are ill-defined and being set to 0.0 in labels with no true samples. Use `zero_division` parameter to control this behavior.\n",
            "  _warn_prf(average, modifier, msg_start, len(result))\n"
          ],
          "name": "stderr"
        }
      ]
    },
    {
      "cell_type": "markdown",
      "metadata": {
        "id": "2Dj2RpBX5zVD",
        "colab_type": "text"
      },
      "source": [
        "LSTM Accuracy report\n"
      ]
    },
    {
      "cell_type": "code",
      "metadata": {
        "id": "5Nu0KnUF5xny",
        "colab_type": "code",
        "colab": {}
      },
      "source": [
        "pr = model.predict_classes(X_test)"
      ],
      "execution_count": 0,
      "outputs": []
    },
    {
      "cell_type": "code",
      "metadata": {
        "id": "bBaSD8aDMmCe",
        "colab_type": "code",
        "outputId": "58191bcb-3214-4e93-9e16-4748cbb08b5b",
        "colab": {
          "base_uri": "https://localhost:8080/",
          "height": 1000
        }
      },
      "source": [
        "print(classification_report(rounded_labels, pr))"
      ],
      "execution_count": 0,
      "outputs": [
        {
          "output_type": "stream",
          "text": [
            "              precision    recall  f1-score   support\n",
            "\n",
            "           0       0.88      1.00      0.93         7\n",
            "           2       1.00      1.00      1.00         1\n",
            "           3       1.00      1.00      1.00         2\n",
            "           6       1.00      1.00      1.00         3\n",
            "           9       1.00      1.00      1.00         1\n",
            "          11       1.00      0.90      0.95        10\n",
            "          13       1.00      1.00      1.00         1\n",
            "          14       1.00      0.92      0.96        12\n",
            "          15       1.00      1.00      1.00         3\n",
            "          16       0.93      0.93      0.93        15\n",
            "          17       1.00      1.00      1.00         1\n",
            "          19       1.00      1.00      1.00         1\n",
            "          20       1.00      1.00      1.00         2\n",
            "          21       1.00      0.50      0.67         2\n",
            "          24       0.86      1.00      0.92         6\n",
            "          25       1.00      1.00      1.00         1\n",
            "          28       1.00      1.00      1.00         1\n",
            "          29       1.00      1.00      1.00         8\n",
            "          30       0.96      1.00      0.98        23\n",
            "          31       1.00      0.88      0.93         8\n",
            "          33       0.94      1.00      0.97        17\n",
            "          34       1.00      1.00      1.00         3\n",
            "          35       1.00      0.88      0.93         8\n",
            "          36       1.00      1.00      1.00         2\n",
            "          39       0.00      0.00      0.00         1\n",
            "          40       1.00      1.00      1.00         3\n",
            "          41       1.00      1.00      1.00         2\n",
            "          42       1.00      1.00      1.00         1\n",
            "          43       1.00      1.00      1.00         2\n",
            "          44       1.00      1.00      1.00         2\n",
            "          45       0.75      1.00      0.86         3\n",
            "          47       1.00      1.00      1.00         1\n",
            "          48       1.00      0.62      0.77         8\n",
            "          49       1.00      1.00      1.00         4\n",
            "          50       1.00      0.75      0.86         4\n",
            "          53       1.00      1.00      1.00         1\n",
            "          55       1.00      1.00      1.00         1\n",
            "          56       1.00      1.00      1.00         4\n",
            "          58       1.00      0.73      0.84        11\n",
            "          59       0.25      1.00      0.40         1\n",
            "          63       1.00      1.00      1.00         1\n",
            "          64       1.00      1.00      1.00         1\n",
            "          65       1.00      1.00      1.00         3\n",
            "          66       1.00      1.00      1.00         2\n",
            "          67       1.00      0.75      0.86        16\n",
            "          69       1.00      0.96      0.98        23\n",
            "          72       0.00      0.00      0.00         1\n",
            "          74       0.00      0.00      0.00         0\n",
            "          76       0.00      0.00      0.00         1\n",
            "          77       1.00      1.00      1.00        11\n",
            "          81       1.00      0.94      0.97        18\n",
            "          82       0.94      1.00      0.97        16\n",
            "          84       0.00      0.00      0.00         1\n",
            "          85       1.00      0.94      0.97        17\n",
            "          86       1.00      1.00      1.00         4\n",
            "          87       1.00      1.00      1.00         1\n",
            "          88       1.00      1.00      1.00         7\n",
            "          90       0.00      0.00      0.00         0\n",
            "          92       1.00      1.00      1.00         2\n",
            "          95       1.00      0.86      0.92         7\n",
            "          96       1.00      1.00      1.00         3\n",
            "          99       1.00      1.00      1.00         3\n",
            "         100       1.00      1.00      1.00         4\n",
            "         101       0.00      0.00      0.00         0\n",
            "         102       1.00      1.00      1.00         2\n",
            "         103       1.00      1.00      1.00         1\n",
            "         104       0.89      0.89      0.89         9\n",
            "         105       1.00      1.00      1.00         3\n",
            "         106       1.00      1.00      1.00         1\n",
            "         109       0.00      0.00      0.00         0\n",
            "         110       1.00      1.00      1.00         1\n",
            "         112       1.00      1.00      1.00         1\n",
            "         114       0.75      1.00      0.86         6\n",
            "         115       1.00      1.00      1.00         1\n",
            "         118       1.00      1.00      1.00        30\n",
            "         119       0.67      0.67      0.67         3\n",
            "         121       0.96      1.00      0.98        27\n",
            "         122       1.00      1.00      1.00         4\n",
            "         123       1.00      1.00      1.00        10\n",
            "         124       0.80      1.00      0.89         4\n",
            "         125       1.00      1.00      1.00         1\n",
            "         126       0.33      1.00      0.50         1\n",
            "         128       1.00      1.00      1.00         4\n",
            "         132       1.00      1.00      1.00        11\n",
            "         133       1.00      1.00      1.00         5\n",
            "         135       1.00      1.00      1.00         9\n",
            "         136       1.00      1.00      1.00         4\n",
            "         138       1.00      1.00      1.00         5\n",
            "         139       0.00      0.00      0.00         0\n",
            "         140       0.75      0.86      0.80         7\n",
            "         144       1.00      1.00      1.00         1\n",
            "         146       1.00      1.00      1.00         1\n",
            "         148       1.00      1.00      1.00         6\n",
            "         149       1.00      1.00      1.00         2\n",
            "         151       1.00      1.00      1.00         6\n",
            "         153       1.00      0.86      0.92         7\n",
            "         154       1.00      1.00      1.00         8\n",
            "         155       1.00      0.50      0.67         2\n",
            "         156       1.00      1.00      1.00         2\n",
            "         157       1.00      1.00      1.00         2\n",
            "         158       1.00      1.00      1.00         2\n",
            "         160       0.88      1.00      0.93         7\n",
            "         162       0.91      1.00      0.95        10\n",
            "         164       1.00      1.00      1.00         5\n",
            "         165       1.00      1.00      1.00         1\n",
            "         168       1.00      1.00      1.00         2\n",
            "         169       0.80      0.80      0.80         5\n",
            "         170       1.00      1.00      1.00         8\n",
            "         171       0.00      0.00      0.00         0\n",
            "         172       0.91      1.00      0.95        10\n",
            "         173       1.00      1.00      1.00         1\n",
            "         176       1.00      1.00      1.00         6\n",
            "         178       1.00      0.75      0.86         4\n",
            "         179       1.00      1.00      1.00         2\n",
            "         183       1.00      1.00      1.00         1\n",
            "         185       0.71      0.71      0.71         7\n",
            "         186       0.73      0.89      0.80         9\n",
            "         187       0.50      1.00      0.67         1\n",
            "         188       1.00      0.50      0.67         2\n",
            "         190       1.00      1.00      1.00         4\n",
            "         191       0.90      1.00      0.95         9\n",
            "         193       1.00      1.00      1.00         1\n",
            "         194       1.00      1.00      1.00         3\n",
            "         197       1.00      0.50      0.67         2\n",
            "         200       0.94      0.94      0.94        17\n",
            "         201       1.00      1.00      1.00         1\n",
            "         203       1.00      1.00      1.00        23\n",
            "         204       0.99      0.97      0.98        68\n",
            "         205       0.95      1.00      0.97        75\n",
            "         206       1.00      0.94      0.97        65\n",
            "         207       0.94      1.00      0.97        29\n",
            "         208       1.00      1.00      1.00         1\n",
            "         209       1.00      1.00      1.00        12\n",
            "         210       0.97      0.93      0.95        42\n",
            "         211       0.97      1.00      0.98        29\n",
            "         212       0.95      0.97      0.96        38\n",
            "         213       0.93      0.93      0.93        15\n",
            "         216       1.00      0.83      0.91         6\n",
            "         217       0.90      0.87      0.89        31\n",
            "         218       0.93      1.00      0.96        41\n",
            "         219       0.95      0.96      0.96        57\n",
            "         220       1.00      1.00      1.00        12\n",
            "         223       1.00      0.95      0.98        22\n",
            "         224       0.92      0.88      0.90        25\n",
            "         225       0.95      0.93      0.94        45\n",
            "         226       0.97      0.97      0.97        36\n",
            "         227       1.00      1.00      1.00         8\n",
            "         228       1.00      1.00      1.00         1\n",
            "         230       0.88      1.00      0.93        14\n",
            "         231       0.96      0.92      0.94        26\n",
            "         232       0.95      0.98      0.96        41\n",
            "         233       1.00      0.98      0.99        53\n",
            "         234       0.95      1.00      0.98        20\n",
            "         237       0.98      0.96      0.97        55\n",
            "         238       0.96      0.92      0.94        59\n",
            "         239       0.94      0.95      0.95        82\n",
            "         240       0.93      0.86      0.89        59\n",
            "         241       1.00      0.83      0.91        12\n",
            "         243       1.00      1.00      1.00         2\n",
            "         244       1.00      1.00      1.00        22\n",
            "         245       1.00      1.00      1.00        27\n",
            "         246       1.00      1.00      1.00        23\n",
            "         247       0.97      1.00      0.98        28\n",
            "         248       1.00      1.00      1.00         5\n",
            "         249       1.00      1.00      1.00         5\n",
            "         250       0.95      1.00      0.98        40\n",
            "         251       0.96      0.98      0.97        48\n",
            "         252       0.93      0.95      0.94        65\n",
            "         253       0.98      0.97      0.97        60\n",
            "         254       1.00      1.00      1.00        11\n",
            "         255       1.00      1.00      1.00         1\n",
            "         256       1.00      1.00      1.00        31\n",
            "         257       0.93      0.96      0.95        45\n",
            "         258       0.98      0.98      0.98        46\n",
            "         259       0.95      0.92      0.93        38\n",
            "         260       1.00      1.00      1.00         5\n",
            "         261       1.00      1.00      1.00         8\n",
            "         262       0.91      0.98      0.94        52\n",
            "         263       1.00      0.94      0.97        17\n",
            "         264       0.97      0.96      0.97        75\n",
            "         265       0.93      0.86      0.89        49\n",
            "         266       0.75      0.75      0.75         4\n",
            "         267       1.00      1.00      1.00         4\n",
            "         268       0.93      0.93      0.93        30\n",
            "         269       1.00      1.00      1.00        20\n",
            "         270       1.00      0.94      0.97        49\n",
            "         271       1.00      0.88      0.93        16\n",
            "         272       1.00      1.00      1.00         1\n",
            "         273       1.00      0.67      0.80         3\n",
            "         274       0.98      0.98      0.98        59\n",
            "         275       0.98      1.00      0.99        46\n",
            "         276       0.95      0.93      0.94        67\n",
            "         277       0.86      0.91      0.89        35\n",
            "         278       1.00      1.00      1.00         4\n",
            "\n",
            "    accuracy                           0.95      2779\n",
            "   macro avg       0.91      0.90      0.90      2779\n",
            "weighted avg       0.96      0.95      0.95      2779\n",
            "\n"
          ],
          "name": "stdout"
        },
        {
          "output_type": "stream",
          "text": [
            "/usr/local/lib/python3.6/dist-packages/sklearn/metrics/_classification.py:1272: UndefinedMetricWarning: Precision and F-score are ill-defined and being set to 0.0 in labels with no predicted samples. Use `zero_division` parameter to control this behavior.\n",
            "  _warn_prf(average, modifier, msg_start, len(result))\n",
            "/usr/local/lib/python3.6/dist-packages/sklearn/metrics/_classification.py:1272: UndefinedMetricWarning: Recall and F-score are ill-defined and being set to 0.0 in labels with no true samples. Use `zero_division` parameter to control this behavior.\n",
            "  _warn_prf(average, modifier, msg_start, len(result))\n"
          ],
          "name": "stderr"
        }
      ]
    },
    {
      "cell_type": "code",
      "metadata": {
        "id": "t5T-jFLKNPIb",
        "colab_type": "code",
        "outputId": "090245ac-a49f-4ec3-a306-15947e8f30ac",
        "colab": {
          "base_uri": "https://localhost:8080/",
          "height": 35
        }
      },
      "source": [
        "pr[0]"
      ],
      "execution_count": 0,
      "outputs": [
        {
          "output_type": "execute_result",
          "data": {
            "text/plain": [
              "252"
            ]
          },
          "metadata": {
            "tags": []
          },
          "execution_count": 46
        }
      ]
    },
    {
      "cell_type": "code",
      "metadata": {
        "id": "_Cu20vO1M9GV",
        "colab_type": "code",
        "colab": {}
      },
      "source": [
        "rounded_labels=numpy.argmax(y_test, axis=1)"
      ],
      "execution_count": 0,
      "outputs": []
    },
    {
      "cell_type": "code",
      "metadata": {
        "id": "IQ2cW31cPMp0",
        "colab_type": "code",
        "outputId": "27b184a7-9b96-4b9c-9770-552037ca263a",
        "colab": {
          "base_uri": "https://localhost:8080/",
          "height": 35
        }
      },
      "source": [
        "rounded_labels[0]"
      ],
      "execution_count": 0,
      "outputs": [
        {
          "output_type": "execute_result",
          "data": {
            "text/plain": [
              "252"
            ]
          },
          "metadata": {
            "tags": []
          },
          "execution_count": 43
        }
      ]
    },
    {
      "cell_type": "code",
      "metadata": {
        "id": "qFOEOz8WLjHY",
        "colab_type": "code",
        "outputId": "076cd14b-719a-429d-9fcc-3f55b763e03b",
        "colab": {
          "base_uri": "https://localhost:8080/",
          "height": 329
        }
      },
      "source": [
        "model.evaluate(X_train,y_train)"
      ],
      "execution_count": 0,
      "outputs": [
        {
          "output_type": "stream",
          "text": [
            " 5216/25011 [=====>........................] - ETA: 2:55 - loss: 0.4185"
          ],
          "name": "stdout"
        },
        {
          "output_type": "error",
          "ename": "KeyboardInterrupt",
          "evalue": "ignored",
          "traceback": [
            "\u001b[0;31m---------------------------------------------------------------------------\u001b[0m",
            "\u001b[0;31mKeyboardInterrupt\u001b[0m                         Traceback (most recent call last)",
            "\u001b[0;32m<ipython-input-26-d3f02fd3b61b>\u001b[0m in \u001b[0;36m<module>\u001b[0;34m()\u001b[0m\n\u001b[0;32m----> 1\u001b[0;31m \u001b[0mmodel\u001b[0m\u001b[0;34m.\u001b[0m\u001b[0mevaluate\u001b[0m\u001b[0;34m(\u001b[0m\u001b[0mX_train\u001b[0m\u001b[0;34m,\u001b[0m\u001b[0my_train\u001b[0m\u001b[0;34m)\u001b[0m\u001b[0;34m\u001b[0m\u001b[0;34m\u001b[0m\u001b[0m\n\u001b[0m",
            "\u001b[0;32m/usr/local/lib/python3.6/dist-packages/tensorflow_core/python/keras/engine/training.py\u001b[0m in \u001b[0;36mevaluate\u001b[0;34m(self, x, y, batch_size, verbose, sample_weight, steps, callbacks, max_queue_size, workers, use_multiprocessing)\u001b[0m\n\u001b[1;32m    830\u001b[0m         \u001b[0mmax_queue_size\u001b[0m\u001b[0;34m=\u001b[0m\u001b[0mmax_queue_size\u001b[0m\u001b[0;34m,\u001b[0m\u001b[0;34m\u001b[0m\u001b[0;34m\u001b[0m\u001b[0m\n\u001b[1;32m    831\u001b[0m         \u001b[0mworkers\u001b[0m\u001b[0;34m=\u001b[0m\u001b[0mworkers\u001b[0m\u001b[0;34m,\u001b[0m\u001b[0;34m\u001b[0m\u001b[0;34m\u001b[0m\u001b[0m\n\u001b[0;32m--> 832\u001b[0;31m         use_multiprocessing=use_multiprocessing)\n\u001b[0m\u001b[1;32m    833\u001b[0m \u001b[0;34m\u001b[0m\u001b[0m\n\u001b[1;32m    834\u001b[0m   def predict(self,\n",
            "\u001b[0;32m/usr/local/lib/python3.6/dist-packages/tensorflow_core/python/keras/engine/training_arrays.py\u001b[0m in \u001b[0;36mevaluate\u001b[0;34m(self, model, x, y, batch_size, verbose, sample_weight, steps, callbacks, **kwargs)\u001b[0m\n\u001b[1;32m    702\u001b[0m         \u001b[0mverbose\u001b[0m\u001b[0;34m=\u001b[0m\u001b[0mverbose\u001b[0m\u001b[0;34m,\u001b[0m\u001b[0;34m\u001b[0m\u001b[0;34m\u001b[0m\u001b[0m\n\u001b[1;32m    703\u001b[0m         \u001b[0msteps\u001b[0m\u001b[0;34m=\u001b[0m\u001b[0msteps\u001b[0m\u001b[0;34m,\u001b[0m\u001b[0;34m\u001b[0m\u001b[0;34m\u001b[0m\u001b[0m\n\u001b[0;32m--> 704\u001b[0;31m         callbacks=callbacks)\n\u001b[0m\u001b[1;32m    705\u001b[0m \u001b[0;34m\u001b[0m\u001b[0m\n\u001b[1;32m    706\u001b[0m   def predict(self,\n",
            "\u001b[0;32m/usr/local/lib/python3.6/dist-packages/tensorflow_core/python/keras/engine/training_arrays.py\u001b[0m in \u001b[0;36mmodel_iteration\u001b[0;34m(model, inputs, targets, sample_weights, batch_size, epochs, verbose, callbacks, val_inputs, val_targets, val_sample_weights, shuffle, initial_epoch, steps_per_epoch, validation_steps, validation_freq, mode, validation_in_fit, prepared_feed_values_from_dataset, steps_name, **kwargs)\u001b[0m\n\u001b[1;32m    392\u001b[0m \u001b[0;34m\u001b[0m\u001b[0m\n\u001b[1;32m    393\u001b[0m         \u001b[0;31m# Get outputs.\u001b[0m\u001b[0;34m\u001b[0m\u001b[0;34m\u001b[0m\u001b[0;34m\u001b[0m\u001b[0m\n\u001b[0;32m--> 394\u001b[0;31m         \u001b[0mbatch_outs\u001b[0m \u001b[0;34m=\u001b[0m \u001b[0mf\u001b[0m\u001b[0;34m(\u001b[0m\u001b[0mins_batch\u001b[0m\u001b[0;34m)\u001b[0m\u001b[0;34m\u001b[0m\u001b[0;34m\u001b[0m\u001b[0m\n\u001b[0m\u001b[1;32m    395\u001b[0m         \u001b[0;32mif\u001b[0m \u001b[0;32mnot\u001b[0m \u001b[0misinstance\u001b[0m\u001b[0;34m(\u001b[0m\u001b[0mbatch_outs\u001b[0m\u001b[0;34m,\u001b[0m \u001b[0mlist\u001b[0m\u001b[0;34m)\u001b[0m\u001b[0;34m:\u001b[0m\u001b[0;34m\u001b[0m\u001b[0;34m\u001b[0m\u001b[0m\n\u001b[1;32m    396\u001b[0m           \u001b[0mbatch_outs\u001b[0m \u001b[0;34m=\u001b[0m \u001b[0;34m[\u001b[0m\u001b[0mbatch_outs\u001b[0m\u001b[0;34m]\u001b[0m\u001b[0;34m\u001b[0m\u001b[0;34m\u001b[0m\u001b[0m\n",
            "\u001b[0;32m/usr/local/lib/python3.6/dist-packages/tensorflow_core/python/keras/backend.py\u001b[0m in \u001b[0;36m__call__\u001b[0;34m(self, inputs)\u001b[0m\n\u001b[1;32m   3474\u001b[0m \u001b[0;34m\u001b[0m\u001b[0m\n\u001b[1;32m   3475\u001b[0m     fetched = self._callable_fn(*array_vals,\n\u001b[0;32m-> 3476\u001b[0;31m                                 run_metadata=self.run_metadata)\n\u001b[0m\u001b[1;32m   3477\u001b[0m     \u001b[0mself\u001b[0m\u001b[0;34m.\u001b[0m\u001b[0m_call_fetch_callbacks\u001b[0m\u001b[0;34m(\u001b[0m\u001b[0mfetched\u001b[0m\u001b[0;34m[\u001b[0m\u001b[0;34m-\u001b[0m\u001b[0mlen\u001b[0m\u001b[0;34m(\u001b[0m\u001b[0mself\u001b[0m\u001b[0;34m.\u001b[0m\u001b[0m_fetches\u001b[0m\u001b[0;34m)\u001b[0m\u001b[0;34m:\u001b[0m\u001b[0;34m]\u001b[0m\u001b[0;34m)\u001b[0m\u001b[0;34m\u001b[0m\u001b[0;34m\u001b[0m\u001b[0m\n\u001b[1;32m   3478\u001b[0m     output_structure = nest.pack_sequence_as(\n",
            "\u001b[0;32m/usr/local/lib/python3.6/dist-packages/tensorflow_core/python/client/session.py\u001b[0m in \u001b[0;36m__call__\u001b[0;34m(self, *args, **kwargs)\u001b[0m\n\u001b[1;32m   1470\u001b[0m         ret = tf_session.TF_SessionRunCallable(self._session._session,\n\u001b[1;32m   1471\u001b[0m                                                \u001b[0mself\u001b[0m\u001b[0;34m.\u001b[0m\u001b[0m_handle\u001b[0m\u001b[0;34m,\u001b[0m \u001b[0margs\u001b[0m\u001b[0;34m,\u001b[0m\u001b[0;34m\u001b[0m\u001b[0;34m\u001b[0m\u001b[0m\n\u001b[0;32m-> 1472\u001b[0;31m                                                run_metadata_ptr)\n\u001b[0m\u001b[1;32m   1473\u001b[0m         \u001b[0;32mif\u001b[0m \u001b[0mrun_metadata\u001b[0m\u001b[0;34m:\u001b[0m\u001b[0;34m\u001b[0m\u001b[0;34m\u001b[0m\u001b[0m\n\u001b[1;32m   1474\u001b[0m           \u001b[0mproto_data\u001b[0m \u001b[0;34m=\u001b[0m \u001b[0mtf_session\u001b[0m\u001b[0;34m.\u001b[0m\u001b[0mTF_GetBuffer\u001b[0m\u001b[0;34m(\u001b[0m\u001b[0mrun_metadata_ptr\u001b[0m\u001b[0;34m)\u001b[0m\u001b[0;34m\u001b[0m\u001b[0;34m\u001b[0m\u001b[0m\n",
            "\u001b[0;31mKeyboardInterrupt\u001b[0m: "
          ]
        }
      ]
    },
    {
      "cell_type": "markdown",
      "metadata": {
        "id": "_P9XRkXf6ZDk",
        "colab_type": "text"
      },
      "source": [
        "GRU Loss"
      ]
    },
    {
      "cell_type": "code",
      "metadata": {
        "id": "GZ4tvEvsodZt",
        "colab_type": "code",
        "outputId": "9a680c5a-c178-442f-fc55-2a5da1a017a7",
        "colab": {
          "base_uri": "https://localhost:8080/",
          "height": 52
        }
      },
      "source": [
        "model.evaluate(X_test,y_test)"
      ],
      "execution_count": 0,
      "outputs": [
        {
          "output_type": "stream",
          "text": [
            "2779/2779 [==============================] - 25s 9ms/sample - loss: 0.4254\n"
          ],
          "name": "stdout"
        },
        {
          "output_type": "execute_result",
          "data": {
            "text/plain": [
              "0.42536529278789503"
            ]
          },
          "metadata": {
            "tags": []
          },
          "execution_count": 25
        }
      ]
    },
    {
      "cell_type": "markdown",
      "metadata": {
        "id": "CXBrPiAQ6bXY",
        "colab_type": "text"
      },
      "source": [
        "LSTM Loss\n"
      ]
    },
    {
      "cell_type": "code",
      "metadata": {
        "id": "CcsJ9ejA6YCi",
        "colab_type": "code",
        "outputId": "ade90360-2119-48a8-c356-6065d59c458d",
        "colab": {
          "base_uri": "https://localhost:8080/",
          "height": 52
        }
      },
      "source": [
        "model.evaluate(X_test,y_test)"
      ],
      "execution_count": 0,
      "outputs": [
        {
          "output_type": "stream",
          "text": [
            "2779/2779 [==============================] - 19s 7ms/sample - loss: 0.4128\n"
          ],
          "name": "stdout"
        },
        {
          "output_type": "execute_result",
          "data": {
            "text/plain": [
              "0.41280926312928196"
            ]
          },
          "metadata": {
            "tags": []
          },
          "execution_count": 23
        }
      ]
    },
    {
      "cell_type": "markdown",
      "metadata": {
        "id": "5y8joIa1xucz",
        "colab_type": "text"
      },
      "source": [
        "model history plotting"
      ]
    },
    {
      "cell_type": "code",
      "metadata": {
        "id": "fGak8f4axwq3",
        "colab_type": "code",
        "colab": {}
      },
      "source": [
        "from os import listdir\n",
        "path = '/content/drive/My Drive/AIAssignment/BiLSTM'\n",
        "l1 = listdir(path)\n",
        "epoch_bilstm = []\n",
        "loss_bilstm = []\n",
        "for x in l1:\n",
        "  epoch_bilstm.append(int(x.split(\"-\")[2]))\n",
        "  loss_bilstm.append(float(x.split(\"-\")[3]))"
      ],
      "execution_count": 0,
      "outputs": []
    },
    {
      "cell_type": "code",
      "metadata": {
        "id": "d5By27rJ_aJw",
        "colab_type": "code",
        "colab": {}
      },
      "source": [
        "from os import listdir\n",
        "path = '/content/drive/My Drive/AIAssignment'\n",
        "l1 = listdir(path)\n",
        "epoch_lstm = []\n",
        "loss_lstm = []\n",
        "for x in l1:\n",
        "  try:\n",
        "    epoch_lstm.append(int(x.split(\"-\")[2]))\n",
        "    loss_lstm.append(float(x.split(\"-\")[3]))\n",
        "  except:\n",
        "    pass"
      ],
      "execution_count": 0,
      "outputs": []
    },
    {
      "cell_type": "code",
      "metadata": {
        "id": "s38omm2JBRCF",
        "colab_type": "code",
        "colab": {}
      },
      "source": [
        "from os import listdir\n",
        "path = '/content/drive/My Drive/AIAssignment/GRU Weights'\n",
        "l1 = listdir(path)\n",
        "epoch_gru = []\n",
        "loss_gru = []\n",
        "for x in l1:\n",
        "  try:\n",
        "    epoch_gru.append(int(x.split(\"-\")[2]))\n",
        "    loss_gru.append(float(x.split(\"-\")[3]))\n",
        "  except:\n",
        "    pass"
      ],
      "execution_count": 0,
      "outputs": []
    },
    {
      "cell_type": "code",
      "metadata": {
        "id": "kON-KJtr4vhu",
        "colab_type": "code",
        "colab": {
          "base_uri": "https://localhost:8080/",
          "height": 294
        },
        "outputId": "1116865a-d4f3-4982-ace5-2e9f0d850993"
      },
      "source": [
        "import matplotlib.pyplot as plt\n",
        "plt.plot(epoch_bilstm,loss_bilstm,label=\"bilstm\")\n",
        "plt.plot(epoch_lstm,loss_lstm,label=\"lstm\")\n",
        "plt.plot(epoch_gru,loss_gru,label=\"gru\")\n",
        "plt.xlabel(\"Epoch\")\n",
        "plt.ylabel(\"Loss\")\n",
        "plt.legend(loc=\"upper right\")\n",
        "plt.title(\"Trining Loss\")\n",
        "plt.savefig('foo.png')"
      ],
      "execution_count": 45,
      "outputs": [
        {
          "output_type": "display_data",
          "data": {
            "image/png": "[encoded data removed]",
            "text/plain": [
              "<Figure size 432x288 with 1 Axes>"
            ]
          },
          "metadata": {
            "tags": [],
            "image/png": {
              "width": 376,
              "height": 277
            }
          }
        }
      ]
    },
    {
      "cell_type": "code",
      "metadata": {
        "id": "Xe82H_MJ5yKU",
        "colab_type": "code",
        "colab": {
          "base_uri": "https://localhost:8080/",
          "height": 265
        },
        "outputId": "85e4013b-3bcb-49ca-cd20-8ce4621c88ac"
      },
      "source": [
        "import numpy as np\n",
        "\n",
        "X = np.linspace(-np.pi, np.pi, 256, endpoint=True)\n",
        "C, S = np.cos(X), np.sin(X)\n",
        "plt.plot(C)\n",
        "plt.show()"
      ],
      "execution_count": 25,
      "outputs": [
        {
          "output_type": "display_data",
          "data": {
            "image/png": "[encoded data removed]",
            "text/plain": [
              "<Figure size 432x288 with 1 Axes>"
            ]
          },
          "metadata": {
            "tags": [],
            "image/png": {
              "width": 386,
              "height": 248
            }
          }
        }
      ]
    },
    {
      "cell_type": "code",
      "metadata": {
        "id": "RfeHseg28CDK",
        "colab_type": "code",
        "colab": {
          "base_uri": "https://localhost:8080/",
          "height": 919
        },
        "outputId": "754617ef-a9f9-4c41-ba19-d11f6a49a672"
      },
      "source": [
        "C"
      ],
      "execution_count": 27,
      "outputs": [
        {
          "output_type": "execute_result",
          "data": {
            "text/plain": [
              "array([-1.        , -0.99969645, -0.99878599, -0.99726917, -0.99514692,\n",
              "       -0.99242051, -0.98909161, -0.98516223, -0.98063477, -0.97551197,\n",
              "       -0.96979694, -0.96349314, -0.95660442, -0.94913494, -0.94108925,\n",
              "       -0.93247223, -0.92328911, -0.91354546, -0.9032472 , -0.89240058,\n",
              "       -0.88101219, -0.86908895, -0.85663808, -0.84366715, -0.83018403,\n",
              "       -0.81619691, -0.80171428, -0.78674494, -0.77129796, -0.75538273,\n",
              "       -0.73900892, -0.72218645, -0.70492555, -0.68723669, -0.66913061,\n",
              "       -0.6506183 , -0.63171101, -0.6124202 , -0.5927576 , -0.57273514,\n",
              "       -0.55236497, -0.53165947, -0.51063119, -0.48929292, -0.46765759,\n",
              "       -0.44573836, -0.42354851, -0.40110153, -0.37841105, -0.35549083,\n",
              "       -0.3323548 , -0.30901699, -0.28549159, -0.26179286, -0.2379352 ,\n",
              "       -0.21393308, -0.18980109, -0.16555388, -0.14120615, -0.1167727 ,\n",
              "       -0.09226836, -0.067708  , -0.04310654, -0.0184789 ,  0.00615995,\n",
              "        0.03079506,  0.05541147,  0.07999425,  0.10452846,  0.12899922,\n",
              "        0.15339165,  0.17769097,  0.20188241,  0.22595129,  0.24988299,\n",
              "        0.27366299,  0.29727685,  0.32071024,  0.34394892,  0.36697879,\n",
              "        0.38978587,  0.41235632,  0.43467642,  0.45673264,  0.47851157,\n",
              "        0.5       ,  0.52118488,  0.54205336,  0.56259275,  0.5827906 ,\n",
              "        0.60263464,  0.62211282,  0.64121331,  0.65992453,  0.67823512,\n",
              "        0.69613395,  0.71361015,  0.73065313,  0.74725253,  0.76339828,\n",
              "        0.77908057,  0.79428989,  0.80901699,  0.82325295,  0.83698911,\n",
              "        0.85021714,  0.862929  ,  0.87511698,  0.88677369,  0.89789203,\n",
              "        0.90846527,  0.91848699,  0.92795109,  0.93685184,  0.94518383,\n",
              "        0.952942  ,  0.96012165,  0.9667184 ,  0.97272827,  0.9781476 ,\n",
              "        0.9829731 ,  0.98720184,  0.99083125,  0.99385914,  0.99628365,\n",
              "        0.99810333,  0.99931706,  0.99992411,  0.99992411,  0.99931706,\n",
              "        0.99810333,  0.99628365,  0.99385914,  0.99083125,  0.98720184,\n",
              "        0.9829731 ,  0.9781476 ,  0.97272827,  0.9667184 ,  0.96012165,\n",
              "        0.952942  ,  0.94518383,  0.93685184,  0.92795109,  0.91848699,\n",
              "        0.90846527,  0.89789203,  0.88677369,  0.87511698,  0.862929  ,\n",
              "        0.85021714,  0.83698911,  0.82325295,  0.80901699,  0.79428989,\n",
              "        0.77908057,  0.76339828,  0.74725253,  0.73065313,  0.71361015,\n",
              "        0.69613395,  0.67823512,  0.65992453,  0.64121331,  0.62211282,\n",
              "        0.60263464,  0.5827906 ,  0.56259275,  0.54205336,  0.52118488,\n",
              "        0.5       ,  0.47851157,  0.45673264,  0.43467642,  0.41235632,\n",
              "        0.38978587,  0.36697879,  0.34394892,  0.32071024,  0.29727685,\n",
              "        0.27366299,  0.24988299,  0.22595129,  0.20188241,  0.17769097,\n",
              "        0.15339165,  0.12899922,  0.10452846,  0.07999425,  0.05541147,\n",
              "        0.03079506,  0.00615995, -0.0184789 , -0.04310654, -0.067708  ,\n",
              "       -0.09226836, -0.1167727 , -0.14120615, -0.16555388, -0.18980109,\n",
              "       -0.21393308, -0.2379352 , -0.26179286, -0.28549159, -0.30901699,\n",
              "       -0.3323548 , -0.35549083, -0.37841105, -0.40110153, -0.42354851,\n",
              "       -0.44573836, -0.46765759, -0.48929292, -0.51063119, -0.53165947,\n",
              "       -0.55236497, -0.57273514, -0.5927576 , -0.6124202 , -0.63171101,\n",
              "       -0.6506183 , -0.66913061, -0.68723669, -0.70492555, -0.72218645,\n",
              "       -0.73900892, -0.75538273, -0.77129796, -0.78674494, -0.80171428,\n",
              "       -0.81619691, -0.83018403, -0.84366715, -0.85663808, -0.86908895,\n",
              "       -0.88101219, -0.89240058, -0.9032472 , -0.91354546, -0.92328911,\n",
              "       -0.93247223, -0.94108925, -0.94913494, -0.95660442, -0.96349314,\n",
              "       -0.96979694, -0.97551197, -0.98063477, -0.98516223, -0.98909161,\n",
              "       -0.99242051, -0.99514692, -0.99726917, -0.99878599, -0.99969645,\n",
              "       -1.        ])"
            ]
          },
          "metadata": {
            "tags": []
          },
          "execution_count": 27
        }
      ]
    }
  ]
}